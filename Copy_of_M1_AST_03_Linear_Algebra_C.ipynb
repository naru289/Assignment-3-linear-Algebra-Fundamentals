{
  "nbformat": 4,
  "nbformat_minor": 0,
  "metadata": {
    "colab": {
      "provenance": []
    },
    "kernelspec": {
      "name": "python3",
      "display_name": "Python 3"
    },
    "language_info": {
      "name": "python"
    }
  },
  "cells": [
    {
      "cell_type": "markdown",
      "metadata": {
        "id": "p4Nwm4FK3wgU"
      },
      "source": [
        "# Advanced Programme in Deep Learning (Foundations and Applications)\n",
        "## A Program by IISc and TalentSprint\n",
        "### Assignment 3: Linear Algebra"
      ]
    },
    {
      "cell_type": "markdown",
      "metadata": {
        "id": "dHj34EaN5oa5"
      },
      "source": [
        "## Learning Objectives"
      ]
    },
    {
      "cell_type": "markdown",
      "metadata": {
        "id": "-vPeurvKNAEz"
      },
      "source": [
        "At the end of the assignment, you will be able to\n",
        "* understand matrix, types of matrix, vectors and its related operations\n",
        "* solve the system of linear equation using matrix solution\n",
        "* implement concepts related to eigen vectors and values\n",
        "\n"
      ]
    },
    {
      "cell_type": "markdown",
      "metadata": {
        "id": "BNLA8HiKxQhc"
      },
      "source": [
        "### Setup Steps:"
      ]
    },
    {
      "cell_type": "code",
      "metadata": {
        "id": "xWMVQWk58aXm"
      },
      "source": [
        "#@title Please enter your registration id to start: { run: \"auto\", display-mode: \"form\" }\n",
        "Id = \"2237180\" #@param {type:\"string\"}"
      ],
      "execution_count": null,
      "outputs": []
    },
    {
      "cell_type": "code",
      "metadata": {
        "id": "cwqosl928dBA"
      },
      "source": [
        "#@title Please enter your password (normally your phone number) to continue: { run: \"auto\", display-mode: \"form\" }\n",
        "password = \"6366871391\" #@param {type:\"string\"}"
      ],
      "execution_count": null,
      "outputs": []
    },
    {
      "cell_type": "code",
      "metadata": {
        "cellView": "form",
        "id": "GXbNUL2L6LoU",
        "outputId": "784cef7b-1bd9-4f0d-ade2-59966ee33ef0",
        "colab": {
          "base_uri": "https://localhost:8080/",
          "height": 34
        }
      },
      "source": [
        "#@title Run this cell to complete the setup for this Notebook\n",
        "from IPython import get_ipython\n",
        "import warnings\n",
        "warnings.filterwarnings(\"ignore\")\n",
        "\n",
        "ipython = get_ipython()\n",
        "  \n",
        "notebook= \"M1_AST_03_Linear_Algebra_C\" #name of the notebook\n",
        "\n",
        "def setup():\n",
        "    from IPython.display import HTML, display\n",
        "    display(HTML('<script src=\"https://dashboard.talentsprint.com/aiml/record_ip.html?traineeId={0}&recordId={1}\"></script>'.format(getId(),submission_id)))\n",
        "    print(\"Setup completed successfully\")\n",
        "    return\n",
        "\n",
        "def submit_notebook():\n",
        "    ipython.magic(\"notebook -e \"+ notebook + \".ipynb\")\n",
        "    \n",
        "    import requests, json, base64, datetime\n",
        "\n",
        "    url = \"https://dashboard.talentsprint.com/xp/app/save_notebook_attempts\"\n",
        "    if not submission_id:\n",
        "      data = {\"id\" : getId(), \"notebook\" : notebook, \"mobile\" : getPassword()}\n",
        "      r = requests.post(url, data = data)\n",
        "      r = json.loads(r.text)\n",
        "\n",
        "      if r[\"status\"] == \"Success\":\n",
        "          return r[\"record_id\"]\n",
        "      elif \"err\" in r:        \n",
        "        print(r[\"err\"])\n",
        "        return None        \n",
        "      else:\n",
        "        print (\"Something is wrong, the notebook will not be submitted for grading\")\n",
        "        return None\n",
        "    \n",
        "    elif getAnswer1() and getAnswer2() and getComplexity() and getAdditional() and getConcepts() and getComments() and getMentorSupport():\n",
        "      f = open(notebook + \".ipynb\", \"rb\")\n",
        "      file_hash = base64.b64encode(f.read())\n",
        "\n",
        "      data = {\"complexity\" : Complexity, \"additional\" :Additional, \n",
        "              \"concepts\" : Concepts, \"record_id\" : submission_id, \n",
        "              \"answer1\" : Answer1, \"answer2\" : Answer2, \"id\" : Id, \"file_hash\" : file_hash,\n",
        "              \"notebook\" : notebook,\n",
        "              \"feedback_experiments_input\" : Comments,\n",
        "              \"feedback_mentor_support\": Mentor_support}\n",
        "      r = requests.post(url, data = data)\n",
        "      r = json.loads(r.text)\n",
        "      if \"err\" in r:        \n",
        "        print(r[\"err\"])\n",
        "        return None   \n",
        "      else:\n",
        "        print(\"Your submission is successful.\")\n",
        "        print(\"Ref Id:\", submission_id)\n",
        "        print(\"Date of submission: \", r[\"date\"])\n",
        "        print(\"Time of submission: \", r[\"time\"])\n",
        "        print(\"View your submissions: https://dlfa-iisc.talentsprint.com/notebook_submissions\")\n",
        "        #print(\"For any queries/discrepancies, please connect with mentors through the chat icon in LMS dashboard.\")\n",
        "        return submission_id\n",
        "    else: submission_id\n",
        "    \n",
        "\n",
        "def getAdditional():\n",
        "  try:\n",
        "    if not Additional: \n",
        "      raise NameError\n",
        "    else:\n",
        "      return Additional  \n",
        "  except NameError:\n",
        "    print (\"Please answer Additional Question\")\n",
        "    return None\n",
        "\n",
        "def getComplexity():\n",
        "  try:\n",
        "    if not Complexity:\n",
        "      raise NameError\n",
        "    else:\n",
        "      return Complexity\n",
        "  except NameError:\n",
        "    print (\"Please answer Complexity Question\")\n",
        "    return None\n",
        "  \n",
        "def getConcepts():\n",
        "  try:\n",
        "    if not Concepts:\n",
        "      raise NameError\n",
        "    else:\n",
        "      return Concepts\n",
        "  except NameError:\n",
        "    print (\"Please answer Concepts Question\")\n",
        "    return None\n",
        "  \n",
        "  \n",
        "# def getWalkthrough():\n",
        "#   try:\n",
        "#     if not Walkthrough:\n",
        "#       raise NameError\n",
        "#     else:\n",
        "#       return Walkthrough\n",
        "#   except NameError:\n",
        "#     print (\"Please answer Walkthrough Question\")\n",
        "#     return None\n",
        "  \n",
        "def getComments():\n",
        "  try:\n",
        "    if not Comments:\n",
        "      raise NameError\n",
        "    else:\n",
        "      return Comments\n",
        "  except NameError:\n",
        "    print (\"Please answer Comments Question\")\n",
        "    return None\n",
        "  \n",
        "\n",
        "def getMentorSupport():\n",
        "  try:\n",
        "    if not Mentor_support:\n",
        "      raise NameError\n",
        "    else:\n",
        "      return Mentor_support\n",
        "  except NameError:\n",
        "    print (\"Please answer Mentor support Question\")\n",
        "    return None\n",
        "\n",
        "def getAnswer1():\n",
        "  try:\n",
        "    if not Answer1:\n",
        "      raise NameError \n",
        "    else: \n",
        "      return Answer1\n",
        "  except NameError:\n",
        "    print (\"Please answer Question 1\")\n",
        "    return None\n",
        "\n",
        "def getAnswer2():\n",
        "  try:\n",
        "    if not Answer2:\n",
        "      raise NameError \n",
        "    else: \n",
        "      return Answer2\n",
        "  except NameError:\n",
        "    print (\"Please answer Question 2\")\n",
        "    return None\n",
        "  \n",
        "\n",
        "def getId():\n",
        "  try: \n",
        "    return Id if Id else None\n",
        "  except NameError:\n",
        "    return None\n",
        "\n",
        "def getPassword():\n",
        "  try:\n",
        "    return password if password else None\n",
        "  except NameError:\n",
        "    return None\n",
        "\n",
        "submission_id = None\n",
        "### Setup \n",
        "if getPassword() and getId():\n",
        "  submission_id = submit_notebook()\n",
        "  if submission_id:\n",
        "    setup() \n",
        "else:\n",
        "  print (\"Please complete Id and Password cells before running setup\")\n",
        "\n"
      ],
      "execution_count": null,
      "outputs": [
        {
          "output_type": "display_data",
          "data": {
            "text/plain": [
              "<IPython.core.display.HTML object>"
            ],
            "text/html": [
              "<script src=\"https://dashboard.talentsprint.com/aiml/record_ip.html?traineeId=2237180&recordId=332\"></script>"
            ]
          },
          "metadata": {}
        },
        {
          "output_type": "stream",
          "name": "stdout",
          "text": [
            "Setup completed successfully\n"
          ]
        }
      ]
    },
    {
      "cell_type": "markdown",
      "metadata": {
        "id": "n3NoHPIp2cD_"
      },
      "source": [
        "### Importing required packages"
      ]
    },
    {
      "cell_type": "code",
      "metadata": {
        "id": "RVxoU0VULvQJ"
      },
      "source": [
        "import numpy as np\n",
        "from math import *\n",
        "from numpy import array\n",
        "from numpy import diag\n",
        "from numpy import dot\n",
        "from numpy import zeros\n",
        "from numpy import linalg as la\n",
        "from numpy.linalg import eig"
      ],
      "execution_count": null,
      "outputs": []
    },
    {
      "cell_type": "markdown",
      "metadata": {
        "id": "xKcaAPQsztm7"
      },
      "source": [
        "### Types of Matrix"
      ]
    },
    {
      "cell_type": "markdown",
      "metadata": {
        "id": "FXLJK17WoNV8"
      },
      "source": [
        "**Square Matrix**: In square matrix, the number of rows are equal to the number of columns."
      ]
    },
    {
      "cell_type": "markdown",
      "metadata": {
        "id": "tvEn246jz12l"
      },
      "source": [
        "1. Create a square matrix with elements 61 to 69. "
      ]
    },
    {
      "cell_type": "code",
      "metadata": {
        "id": "dEFZ0ejYzzUO",
        "outputId": "a05cfab3-b82d-41a3-db76-c4a8c2361d23",
        "colab": {
          "base_uri": "https://localhost:8080/"
        }
      },
      "source": [
        "square_matrix = np.array([np.arange(61,64),np.arange(64,67), np.arange(67,70)])\n",
        "print(\"Square Matrix:\\n\",square_matrix)"
      ],
      "execution_count": null,
      "outputs": [
        {
          "output_type": "stream",
          "name": "stdout",
          "text": [
            "Square Matrix:\n",
            " [[61 62 63]\n",
            " [64 65 66]\n",
            " [67 68 69]]\n"
          ]
        }
      ]
    },
    {
      "cell_type": "markdown",
      "metadata": {
        "id": "hutiOEovoSJe"
      },
      "source": [
        "\n",
        "**Upper Triangular Matrix**: It is a type of square matrix, where all the values below the main diagonal are 0.\n",
        "\n",
        "**Lower Triangular Matrix**: It is a type of square matrix, where all the values above the main diagonal are 0.\n"
      ]
    },
    {
      "cell_type": "markdown",
      "metadata": {
        "id": "1Qn7OVNAz_f0"
      },
      "source": [
        "2. Create an upper and lower triangular matrix of size 6x6 with random values."
      ]
    },
    {
      "cell_type": "code",
      "metadata": {
        "id": "ki_32Wwj0Cob",
        "outputId": "b22b575e-56ba-4935-9bd4-132928ee4f80",
        "colab": {
          "base_uri": "https://localhost:8080/"
        }
      },
      "source": [
        "matrix = np.random.rand(6,6)\n",
        "print(\"Original Matrix:\\n\",matrix)\n",
        "\n",
        "# Upper triangular matrix\n",
        "upper_triangular = np.triu(matrix)\n",
        "print(\"Upper Triangular Matrix:\\n\",upper_triangular)\n",
        "\n",
        "# Lower triangular matrix\n",
        "lower_triangular = np.tril(matrix)\n",
        "print(\"Lower Triangular Matrix:\\n\", lower_triangular)"
      ],
      "execution_count": null,
      "outputs": [
        {
          "output_type": "stream",
          "name": "stdout",
          "text": [
            "Original Matrix:\n",
            " [[0.5638518  0.73909527 0.36179455 0.34236556 0.69153017 0.45520302]\n",
            " [0.40092218 0.291692   0.1639314  0.17183217 0.31949882 0.63890714]\n",
            " [0.58836232 0.39180116 0.50958682 0.05755871 0.16045606 0.50380547]\n",
            " [0.66459481 0.83839495 0.05507834 0.08271292 0.60112941 0.54770912]\n",
            " [0.67448462 0.78961662 0.17753387 0.19661719 0.14004039 0.26967584]\n",
            " [0.01968552 0.88958861 0.80290424 0.37935841 0.13338483 0.96984886]]\n",
            "Upper Triangular Matrix:\n",
            " [[0.5638518  0.73909527 0.36179455 0.34236556 0.69153017 0.45520302]\n",
            " [0.         0.291692   0.1639314  0.17183217 0.31949882 0.63890714]\n",
            " [0.         0.         0.50958682 0.05755871 0.16045606 0.50380547]\n",
            " [0.         0.         0.         0.08271292 0.60112941 0.54770912]\n",
            " [0.         0.         0.         0.         0.14004039 0.26967584]\n",
            " [0.         0.         0.         0.         0.         0.96984886]]\n",
            "Lower Triangular Matrix:\n",
            " [[0.5638518  0.         0.         0.         0.         0.        ]\n",
            " [0.40092218 0.291692   0.         0.         0.         0.        ]\n",
            " [0.58836232 0.39180116 0.50958682 0.         0.         0.        ]\n",
            " [0.66459481 0.83839495 0.05507834 0.08271292 0.         0.        ]\n",
            " [0.67448462 0.78961662 0.17753387 0.19661719 0.14004039 0.        ]\n",
            " [0.01968552 0.88958861 0.80290424 0.37935841 0.13338483 0.96984886]]\n"
          ]
        }
      ]
    },
    {
      "cell_type": "markdown",
      "metadata": {
        "id": "_HeQxIRHouGh"
      },
      "source": [
        "**Diagonal Matrix**: In a diagonal matrix, all the values are zero except the diagonal values"
      ]
    },
    {
      "cell_type": "markdown",
      "metadata": {
        "id": "M6Jelvnf0DCz"
      },
      "source": [
        "3. Create a diagonal matrix of size 3x3 with integer valules and do the following:\n",
        "\n",
        "  i). Create a diagonal matrix with the values above the diagonal elements.\n",
        "  \n",
        "  ii). Create a diagonal matrix with the values below the diagonal elements.\n",
        "\n",
        "\n",
        "\n"
      ]
    },
    {
      "cell_type": "code",
      "metadata": {
        "id": "5mUGk70z0II8",
        "outputId": "8e9c6e25-c348-4e9c-93e1-e4c70fd37a69",
        "colab": {
          "base_uri": "https://localhost:8080/"
        }
      },
      "source": [
        "M = np.array([np.arange(73,76),np.arange(32,35), np.arange(57,60)])\n",
        "print(\"Matrix:\\n\",M)\n",
        " \n",
        "# Diagonal Matrix\n",
        "diagonal_matrix = np.diag(np.diag(M))\n",
        "\n",
        "# Using k=1 for getting the diagonal matrix with the values above the diagonal elements\n",
        "above_matrix = np.diag(np.diag(M,k=1))\n",
        "\n",
        "# Using k=-1 for getting the diagonal matrix with the values below the diagonal elements\n",
        "below_matrix = np.diag(np.diag(M,k=-1))\n",
        "\n",
        "print(\"Diagonal Matrix:\\n\",diagonal_matrix)\n",
        "print(\"Matrix Above Diagonal:\\n\",above_matrix)\n",
        "print(\"Matrix Below Diagonal:\\n\",below_matrix)"
      ],
      "execution_count": null,
      "outputs": [
        {
          "output_type": "stream",
          "name": "stdout",
          "text": [
            "Matrix:\n",
            " [[73 74 75]\n",
            " [32 33 34]\n",
            " [57 58 59]]\n",
            "Diagonal Matrix:\n",
            " [[73  0  0]\n",
            " [ 0 33  0]\n",
            " [ 0  0 59]]\n",
            "Matrix Above Diagonal:\n",
            " [[74  0]\n",
            " [ 0 34]]\n",
            "Matrix Below Diagonal:\n",
            " [[32  0]\n",
            " [ 0 58]]\n"
          ]
        }
      ]
    },
    {
      "cell_type": "markdown",
      "metadata": {
        "id": "36KBw9B2kMIy"
      },
      "source": [
        "Here all the non-diagonal elements are zero."
      ]
    },
    {
      "cell_type": "markdown",
      "metadata": {
        "id": "3LTA6mU2o8n3"
      },
      "source": [
        "**Identity Matrix**: A matrix of size nxn where all diagonal values are 1 and other values are 0 is an identity matrix."
      ]
    },
    {
      "cell_type": "markdown",
      "metadata": {
        "id": "FxI-Dib_0I2J"
      },
      "source": [
        "4. Create a 4x4 identity matrix with integer numbers."
      ]
    },
    {
      "cell_type": "code",
      "metadata": {
        "id": "bT5tpNQ90iid",
        "outputId": "0d9d118a-6ab3-4cdc-e9b9-4963e3e23f69",
        "colab": {
          "base_uri": "https://localhost:8080/"
        }
      },
      "source": [
        "x = np.identity(4)\n",
        "print(\"4x4 Identity Matrix:\\n\", x)\n",
        "\n",
        "y = np.identity(4,dtype=int)\n",
        "print(\"4x4 Identity Matrix:\\n\", y)"
      ],
      "execution_count": null,
      "outputs": [
        {
          "output_type": "stream",
          "name": "stdout",
          "text": [
            "4x4 Identity Matrix:\n",
            " [[1. 0. 0. 0.]\n",
            " [0. 1. 0. 0.]\n",
            " [0. 0. 1. 0.]\n",
            " [0. 0. 0. 1.]]\n",
            "4x4 Identity Matrix:\n",
            " [[1 0 0 0]\n",
            " [0 1 0 0]\n",
            " [0 0 1 0]\n",
            " [0 0 0 1]]\n"
          ]
        }
      ]
    },
    {
      "cell_type": "markdown",
      "metadata": {
        "id": "fmS8azZypCPG"
      },
      "source": [
        "**Null Matrix**: A null matrix has all the values as zero."
      ]
    },
    {
      "cell_type": "markdown",
      "metadata": {
        "id": "W-MJrBp-0jNz"
      },
      "source": [
        "5. Create a null matrix of integers with shape 6x6."
      ]
    },
    {
      "cell_type": "code",
      "metadata": {
        "id": "j6g_s0oZ0pEC",
        "outputId": "499bc95b-2837-4142-cbf7-30d7898c7f3a",
        "colab": {
          "base_uri": "https://localhost:8080/"
        }
      },
      "source": [
        "null_matrix = np.zeros(shape=(6,6))\n",
        "print(\"Null Matrix:\\n\", null_matrix)"
      ],
      "execution_count": null,
      "outputs": [
        {
          "output_type": "stream",
          "name": "stdout",
          "text": [
            "Null Matrix:\n",
            " [[0. 0. 0. 0. 0. 0.]\n",
            " [0. 0. 0. 0. 0. 0.]\n",
            " [0. 0. 0. 0. 0. 0.]\n",
            " [0. 0. 0. 0. 0. 0.]\n",
            " [0. 0. 0. 0. 0. 0.]\n",
            " [0. 0. 0. 0. 0. 0.]]\n"
          ]
        }
      ]
    },
    {
      "cell_type": "markdown",
      "metadata": {
        "id": "QL-qwsUtkVfD"
      },
      "source": [
        "### Matrix Transpose, Inverse, and Determinant"
      ]
    },
    {
      "cell_type": "markdown",
      "metadata": {
        "id": "M_T07E3ekn_z"
      },
      "source": [
        "**Transpose**: Transpose operation flips the matrix over its diagonal i.e. replacing rows with coloums and vice-versa."
      ]
    },
    {
      "cell_type": "markdown",
      "metadata": {
        "id": "JJoBZY8v5ULw"
      },
      "source": [
        "1. Create a matrix and find its transpose."
      ]
    },
    {
      "cell_type": "code",
      "metadata": {
        "id": "5y5LK4015pqz",
        "outputId": "c29e8ff6-43f3-46d5-f3d7-6aed3f28326f",
        "colab": {
          "base_uri": "https://localhost:8080/"
        }
      },
      "source": [
        "# Creating a matrix\n",
        "matrix1 = np.array([np.arange(0,3),np.arange(3,6)])\n",
        "print(\"Matrix 1:\\n\", matrix1)\n",
        "\n",
        "# Matrix transpose\n",
        "print(\"Transpose of a Matrix: \\n\", matrix1.T)"
      ],
      "execution_count": null,
      "outputs": [
        {
          "output_type": "stream",
          "name": "stdout",
          "text": [
            "Matrix 1:\n",
            " [[0 1 2]\n",
            " [3 4 5]]\n",
            "Transpose of a Matrix: \n",
            " [[0 3]\n",
            " [1 4]\n",
            " [2 5]]\n"
          ]
        }
      ]
    },
    {
      "cell_type": "markdown",
      "metadata": {
        "id": "mgVF0bewkuJs"
      },
      "source": [
        "**Inverse**: This operation helps to create a matrix such that when it is multiplied by the original matrix, the result is an identity matrix."
      ]
    },
    {
      "cell_type": "markdown",
      "metadata": {
        "id": "PbBw517f5qlo"
      },
      "source": [
        "2. Find the inverse of a matrix."
      ]
    },
    {
      "cell_type": "code",
      "metadata": {
        "id": "-uDy3dor5thR",
        "outputId": "41b32664-9411-43a3-af55-7aacf779d102",
        "colab": {
          "base_uri": "https://localhost:8080/"
        }
      },
      "source": [
        "# Create a matrix\n",
        "A = np.array([[5,6],[7,8]])\n",
        "\n",
        "# Finding the inverse\n",
        "inverse = np.linalg.inv(A)\n",
        "print(\"Inverse of matrix:\\n\",inverse)"
      ],
      "execution_count": null,
      "outputs": [
        {
          "output_type": "stream",
          "name": "stdout",
          "text": [
            "Inverse of matrix:\n",
            " [[-4.   3. ]\n",
            " [ 3.5 -2.5]]\n"
          ]
        }
      ]
    },
    {
      "cell_type": "markdown",
      "metadata": {
        "id": "J7spkFtt6Rkf"
      },
      "source": [
        "3. Create 3x3 matrix and find the inverse of it."
      ]
    },
    {
      "cell_type": "code",
      "metadata": {
        "id": "D_xu1d126Vfv",
        "outputId": "8c311f3f-9a8d-424e-c078-36a2d5db3740",
        "colab": {
          "base_uri": "https://localhost:8080/"
        }
      },
      "source": [
        "B = np.array([[1,9,3],[4,5,6],[7,8,9]])\n",
        "print(\"Matrix B:\\n\", B)\n",
        "\n",
        "# Finding Inverse \n",
        "inverse = np.linalg.inv(B)\n",
        "print(\"Inverse of matrix:\\n\",inverse)"
      ],
      "execution_count": null,
      "outputs": [
        {
          "output_type": "stream",
          "name": "stdout",
          "text": [
            "Matrix B:\n",
            " [[1 9 3]\n",
            " [4 5 6]\n",
            " [7 8 9]]\n",
            "Inverse of matrix:\n",
            " [[-0.07142857 -1.35714286  0.92857143]\n",
            " [ 0.14285714 -0.28571429  0.14285714]\n",
            " [-0.07142857  1.30952381 -0.73809524]]\n"
          ]
        }
      ]
    },
    {
      "cell_type": "markdown",
      "metadata": {
        "id": "hE-zpsmDk2Rw"
      },
      "source": [
        "**Determinant**: Determinant of a matrix is a scalar value that helps to characterize the properties of a matrix."
      ]
    },
    {
      "cell_type": "markdown",
      "metadata": {
        "id": "HYnIM35teYko"
      },
      "source": [
        "4. Create a matrix of size 3x3 and find the determinant of it.\n",
        "\n",
        "  To know more about Python libraries, click [here](https://numpy.org/doc/stable/reference/generated/numpy.linalg.det.html)\n",
        "\n",
        "\n"
      ]
    },
    {
      "cell_type": "code",
      "metadata": {
        "id": "O-diJjsHrFqt",
        "outputId": "7c94ca8c-301f-49e1-f4d8-228a5f3ee537",
        "colab": {
          "base_uri": "https://localhost:8080/"
        }
      },
      "source": [
        "B = np.array([[1,2,3],[4,5,6],[7,8,9]])\n",
        "D = la.det(B)\n",
        "print(D)"
      ],
      "execution_count": null,
      "outputs": [
        {
          "output_type": "stream",
          "name": "stdout",
          "text": [
            "0.0\n"
          ]
        }
      ]
    },
    {
      "cell_type": "markdown",
      "metadata": {
        "id": "CmqUEMMRgEpv"
      },
      "source": [
        "5. Create a 4x4 matrix and slice the rows and columns to get the middle sub-matrix and find its determinant."
      ]
    },
    {
      "cell_type": "code",
      "metadata": {
        "id": "MRHkKn25gVcj",
        "outputId": "51f6ae98-d433-4c28-d758-55ef0d480259",
        "colab": {
          "base_uri": "https://localhost:8080/"
        }
      },
      "source": [
        "# Create 4x4 matrix\n",
        "matrix_new = np.array([np.arange(0,4),np.arange(4,8),np.arange(8,12),np.arange(12,16)])\n",
        "print(\"Matrix:\\n\", matrix_new)\n",
        "\n",
        "# Slicing of rows and columns\n",
        "sliced_matrix = matrix_new[1:3,1:3]\n",
        "print(\"Sliced Matrix:\\n\",sliced_matrix)\n",
        "\n",
        "# Finding the determinant\n",
        "determinant = np.linalg.det(sliced_matrix)\n",
        "print(\"Determinant Value:\\n\", determinant)"
      ],
      "execution_count": null,
      "outputs": [
        {
          "output_type": "stream",
          "name": "stdout",
          "text": [
            "Matrix:\n",
            " [[ 0  1  2  3]\n",
            " [ 4  5  6  7]\n",
            " [ 8  9 10 11]\n",
            " [12 13 14 15]]\n",
            "Sliced Matrix:\n",
            " [[ 5  6]\n",
            " [ 9 10]]\n",
            "Determinant Value:\n",
            " -4.000000000000003\n"
          ]
        }
      ]
    },
    {
      "cell_type": "markdown",
      "metadata": {
        "id": "D09L-6_82V15"
      },
      "source": [
        "\n",
        "### Matrix Operations and Functions\n"
      ]
    },
    {
      "cell_type": "markdown",
      "metadata": {
        "id": "KV4nOjKlm5p0"
      },
      "source": [
        "### Addition "
      ]
    },
    {
      "cell_type": "markdown",
      "metadata": {
        "id": "TOzXXy7B2cGb"
      },
      "source": [
        "1. Create matrix and add a scalar to it.\n",
        "\n",
        "\n",
        "\n"
      ]
    },
    {
      "cell_type": "code",
      "metadata": {
        "id": "CXbsz1aH4m-J",
        "outputId": "3d160541-5610-4c07-bd8a-75b9eca28bea",
        "colab": {
          "base_uri": "https://localhost:8080/"
        }
      },
      "source": [
        "matrix1 = np.array([np.arange(27,32),np.arange(53,58),np.arange(33,38),np.arange(91,96)])\n",
        "print(\"Original Matrix:\\n\",matrix1)\n",
        "\n",
        "# Scalar Addition\n",
        "Scalar_add = matrix1 + 1\n",
        "print(\"Resulting Matrix:\\n\",Scalar_add)"
      ],
      "execution_count": null,
      "outputs": [
        {
          "output_type": "stream",
          "name": "stdout",
          "text": [
            "Original Matrix:\n",
            " [[27 28 29 30 31]\n",
            " [53 54 55 56 57]\n",
            " [33 34 35 36 37]\n",
            " [91 92 93 94 95]]\n",
            "Resulting Matrix:\n",
            " [[28 29 30 31 32]\n",
            " [54 55 56 57 58]\n",
            " [34 35 36 37 38]\n",
            " [92 93 94 95 96]]\n"
          ]
        }
      ]
    },
    {
      "cell_type": "markdown",
      "metadata": {
        "id": "lFrLG5IxhGb7"
      },
      "source": [
        "2. Create two matrices as matrix1 & matrix2. Then, perform addition operation on them.\n",
        "\n",
        "\n",
        "\n",
        "\n",
        "\n",
        "\n",
        "\n",
        "\n"
      ]
    },
    {
      "cell_type": "code",
      "metadata": {
        "id": "glU1W378hKnU",
        "outputId": "975852e9-4d27-4840-de89-045788c772b4",
        "colab": {
          "base_uri": "https://localhost:8080/"
        }
      },
      "source": [
        "# Creating matrices\n",
        "matrix1 = np.array([np.arange(7,10),np.arange(24,27)])\n",
        "matrix2 = np.array([np.arange(16,19),np.arange(33,36)])\n",
        "print(\"Matrix 1:\\n\", matrix1)\n",
        "print(\"Matrix 2:\\n\", matrix2)\n",
        "\n",
        "# Matrix Addition\n",
        "Matrix_addition = matrix1 + matrix2\n",
        "print(\"Matrix Addition: \\n\",Matrix_addition)"
      ],
      "execution_count": null,
      "outputs": [
        {
          "output_type": "stream",
          "name": "stdout",
          "text": [
            "Matrix 1:\n",
            " [[ 7  8  9]\n",
            " [24 25 26]]\n",
            "Matrix 2:\n",
            " [[16 17 18]\n",
            " [33 34 35]]\n",
            "Matrix Addition: \n",
            " [[23 25 27]\n",
            " [57 59 61]]\n"
          ]
        }
      ]
    },
    {
      "cell_type": "markdown",
      "metadata": {
        "id": "Aho-IiUvm2mu"
      },
      "source": [
        "### Subtraction"
      ]
    },
    {
      "cell_type": "markdown",
      "metadata": {
        "id": "8FaT3Jtn4ncF"
      },
      "source": [
        "3. Create a matrix of size 3x6 and subtract a scalar from it.\n",
        "\n"
      ]
    },
    {
      "cell_type": "code",
      "metadata": {
        "id": "MmCu2FKc4rMQ",
        "outputId": "3e651a1e-18a2-41a5-f12f-a3de45a97fcc",
        "colab": {
          "base_uri": "https://localhost:8080/"
        }
      },
      "source": [
        "# Creating matrices\n",
        "matrix1 = np.array([np.arange(5,11), np.arange(47,53), np.arange(9,15)])\n",
        "print(\"Matrix 1:\\n\", matrix1)\n",
        "\n",
        "# Scalar Substraction\n",
        "Scalar_sub = matrix1 - np.sin(np.pi/4)\n",
        "print(\"Scalar Subtraction :\\n\",Scalar_sub)"
      ],
      "execution_count": null,
      "outputs": [
        {
          "output_type": "stream",
          "name": "stdout",
          "text": [
            "Matrix 1:\n",
            " [[ 5  6  7  8  9 10]\n",
            " [47 48 49 50 51 52]\n",
            " [ 9 10 11 12 13 14]]\n",
            "Scalar Subtraction :\n",
            " [[ 4.29289322  5.29289322  6.29289322  7.29289322  8.29289322  9.29289322]\n",
            " [46.29289322 47.29289322 48.29289322 49.29289322 50.29289322 51.29289322]\n",
            " [ 8.29289322  9.29289322 10.29289322 11.29289322 12.29289322 13.29289322]]\n"
          ]
        }
      ]
    },
    {
      "cell_type": "markdown",
      "metadata": {
        "id": "kMJrSRVhpLg2"
      },
      "source": [
        "4. Create two matrices of size 2x3 and subtract second matrix from the first one."
      ]
    },
    {
      "cell_type": "code",
      "metadata": {
        "id": "2ndefVGDpOjC",
        "outputId": "5a44f529-5985-4006-e031-fdfa3828dd24",
        "colab": {
          "base_uri": "https://localhost:8080/"
        }
      },
      "source": [
        "# Creating matrices\n",
        "matrix1 = np.array([np.arange(0,3),np.arange(3,6)])\n",
        "matrix2 = np.array([np.arange(6,9),np.arange(9,12)])\n",
        "print(\"Matrix 1:\\n\", matrix1)\n",
        "print(\"Matrix 2:\\n\", matrix2)\n",
        "\n",
        "# Matrix Subtraction\n",
        "Matrix_subtraction = matrix1 - matrix2\n",
        "print(Matrix_subtraction)"
      ],
      "execution_count": null,
      "outputs": [
        {
          "output_type": "stream",
          "name": "stdout",
          "text": [
            "Matrix 1:\n",
            " [[0 1 2]\n",
            " [3 4 5]]\n",
            "Matrix 2:\n",
            " [[ 6  7  8]\n",
            " [ 9 10 11]]\n",
            "[[-6 -6 -6]\n",
            " [-6 -6 -6]]\n"
          ]
        }
      ]
    },
    {
      "cell_type": "markdown",
      "metadata": {
        "id": "38cMo8C7mxXN"
      },
      "source": [
        "### Division"
      ]
    },
    {
      "cell_type": "markdown",
      "metadata": {
        "id": "6kx-20ES4rt2"
      },
      "source": [
        "5. Create a 4x3 matrix and divide it by a scalar.\n",
        "\n",
        "\n",
        "\n",
        "\n"
      ]
    },
    {
      "cell_type": "code",
      "metadata": {
        "id": "xbyGCdGV4wqg",
        "outputId": "ad795551-5030-4588-c9bc-6de0c824065d",
        "colab": {
          "base_uri": "https://localhost:8080/"
        }
      },
      "source": [
        "matrix1 = np.array([np.arange(6,9),np.arange(14,17),np.arange(97,100),np.arange(54,57)])\n",
        "print(\"Matrix 1:\\n\", matrix1)\n",
        "\n",
        "# Scalar Division\n",
        "Scalar_div = matrix1/np.cos(np.pi/2)\n",
        "print(\"Scalar Division: \\n\",Scalar_div)"
      ],
      "execution_count": null,
      "outputs": [
        {
          "output_type": "stream",
          "name": "stdout",
          "text": [
            "Matrix 1:\n",
            " [[ 6  7  8]\n",
            " [14 15 16]\n",
            " [97 98 99]\n",
            " [54 55 56]]\n",
            "Scalar Division: \n",
            " [[9.79874361e+16 1.14318675e+17 1.30649915e+17]\n",
            " [2.28637351e+17 2.44968590e+17 2.61299830e+17]\n",
            " [1.58413022e+18 1.60046146e+18 1.61679270e+18]\n",
            " [8.81886925e+17 8.98218164e+17 9.14549404e+17]]\n"
          ]
        }
      ]
    },
    {
      "cell_type": "markdown",
      "metadata": {
        "id": "YQDSP45Mqr8g"
      },
      "source": [
        "6. Create two matrices and divide the first matrix by the second one."
      ]
    },
    {
      "cell_type": "code",
      "metadata": {
        "id": "DNS6LjQ1quh5",
        "outputId": "39681291-f327-4b6b-9189-26156f9e9ce3",
        "colab": {
          "base_uri": "https://localhost:8080/"
        }
      },
      "source": [
        "# Creating matrices\n",
        "matrix1 = np.array([np.arange(18,21),np.arange(32,35)])\n",
        "matrix2 = np.array([np.arange(6,9),np.arange(9,12)])\n",
        "print(\"Matrix 1:\\n\", matrix1)\n",
        "print(\"Matrix 2:\\n\", matrix2)\n",
        "\n",
        "# Matrix Division\n",
        "Matrix_div = matrix1/matrix2\n",
        "print(Matrix_div)"
      ],
      "execution_count": null,
      "outputs": [
        {
          "output_type": "stream",
          "name": "stdout",
          "text": [
            "Matrix 1:\n",
            " [[18 19 20]\n",
            " [32 33 34]]\n",
            "Matrix 2:\n",
            " [[ 6  7  8]\n",
            " [ 9 10 11]]\n",
            "[[3.         2.71428571 2.5       ]\n",
            " [3.55555556 3.3        3.09090909]]\n"
          ]
        }
      ]
    },
    {
      "cell_type": "markdown",
      "metadata": {
        "id": "BUBxYsfN4zp3"
      },
      "source": [
        "### Multiplication"
      ]
    },
    {
      "cell_type": "markdown",
      "metadata": {
        "id": "cqTR0BZZrwJw"
      },
      "source": [
        "7. Create a matrix and mulitply it by a Scalar.\n",
        "\n",
        "\n"
      ]
    },
    {
      "cell_type": "code",
      "metadata": {
        "id": "W6a67QO-r2MS",
        "outputId": "c7bd38d1-7850-49fa-fcd1-8c4625efc3f2",
        "colab": {
          "base_uri": "https://localhost:8080/"
        }
      },
      "source": [
        "matrix1 = np.array([np.arange(121,126),np.arange(75,80)])\n",
        "print(\"Matrix 1:\\n\", matrix1)\n",
        "\n",
        "# Scalar Product\n",
        "Scalar_product = matrix1*np.sin(3*np.pi/4)\n",
        "print(\"Scalar Product:\\n\", Scalar_product)"
      ],
      "execution_count": null,
      "outputs": [
        {
          "output_type": "stream",
          "name": "stdout",
          "text": [
            "Matrix 1:\n",
            " [[121 122 123 124 125]\n",
            " [ 75  76  77  78  79]]\n",
            "Scalar Product:\n",
            " [[85.55992052 86.2670273  86.97413409 87.68124087 88.38834765]\n",
            " [53.03300859 53.74011537 54.44722215 55.15432893 55.86143571]]\n"
          ]
        }
      ]
    },
    {
      "cell_type": "markdown",
      "metadata": {
        "id": "OECLxNNplrrR"
      },
      "source": [
        "Multiplication of two matrices is shown in the below diagram:\n",
        "\n"
      ]
    },
    {
      "cell_type": "markdown",
      "metadata": {
        "id": "yHi5zP0ZE5pa"
      },
      "source": [
        "$A.B = \\begin{bmatrix}\n",
        "a & b\\\\\n",
        "c & d\\\\\n",
        "\\end{bmatrix} \\begin{bmatrix}\n",
        "e & f\\\\\n",
        "g & h\\\\\n",
        "\\end{bmatrix} = \\begin{bmatrix}\n",
        "ae+ bg & af+bh\\\\\n",
        "ce+dg & cf+dh\\\\\n",
        "\\end{bmatrix}$"
      ]
    },
    {
      "cell_type": "markdown",
      "metadata": {
        "id": "PbSjmcltr2sz"
      },
      "source": [
        "8. Create two matrices and multiply them.\n",
        "\n",
        "  Note: Here, the corresponding elements are not multiplied. The multiplication rules are different from addition, subtraction, and division. "
      ]
    },
    {
      "cell_type": "code",
      "metadata": {
        "id": "neTNogReZeW-",
        "outputId": "e4cf707f-3f18-4ee5-c2e5-8289643ca2ad",
        "colab": {
          "base_uri": "https://localhost:8080/"
        }
      },
      "source": [
        "# Creating matrices\n",
        "matrix1 = np.array([np.arange(5,9),np.arange(2,6)])\n",
        "matrix2 = np.array([np.arange(6,8),np.arange(12,14),np.arange(4,6),np.arange(1,3)])\n",
        "print(\"Matrix 1:\\n\", matrix1)\n",
        "print(\"Matrix 2:\\n\", matrix2)\n",
        "\n",
        "# Dot Product\n",
        "Dot_product = np.dot(matrix1, matrix2)\n",
        "print(\"Dot Product: \\n\",Dot_product)"
      ],
      "execution_count": null,
      "outputs": [
        {
          "output_type": "stream",
          "name": "stdout",
          "text": [
            "Matrix 1:\n",
            " [[5 6 7 8]\n",
            " [2 3 4 5]]\n",
            "Matrix 2:\n",
            " [[ 6  7]\n",
            " [12 13]\n",
            " [ 4  5]\n",
            " [ 1  2]]\n",
            "Dot Product: \n",
            " [[138 164]\n",
            " [ 69  83]]\n"
          ]
        }
      ]
    },
    {
      "cell_type": "markdown",
      "metadata": {
        "id": "EMzPFzf8KjDu"
      },
      "source": [
        "\n",
        "### Cross Product & Dot Product of Vector and Matrices"
      ]
    },
    {
      "cell_type": "markdown",
      "metadata": {
        "id": "GDbs-xfRjSDC"
      },
      "source": [
        "\n",
        "*   **Cross Product** : In three-dimensional space, the cross product is a binary operation between two vectors. It produces a perpendicular vector to both vectors.\n",
        "\n",
        "<center><img src=\"https://cdn.iisc.talentsprint.com/DLFA/Experiment_related_data/cross_product.png\" alt=\"Drawing\" height=\"300\" width=\"280\"/></center>\n",
        "\n",
        "*   **Dot Product** : The dot product is defined algebraically as the sum of the products of the corresponding entries of the two number sequences. Moreover, it is the product of the Euclidean magnitudes and the cosine of the angle between them.\n",
        "\n",
        "<br>\n",
        "<center>\n",
        "<img src=\"https://cdn.iisc.talentsprint.com/DLFA/Experiment_related_data/dot_product-01.png\" alt=\"Drawing\" height=\"300\" width=\"300\"/></center>\n"
      ]
    },
    {
      "cell_type": "markdown",
      "metadata": {
        "id": "za3FdZvNnOhQ"
      },
      "source": [
        "1. Create two matrices and perform cross product on them."
      ]
    },
    {
      "cell_type": "code",
      "metadata": {
        "id": "JVkXImIoGbTE",
        "outputId": "77b83131-7af9-4b17-ae9f-c21588a9bc53",
        "colab": {
          "base_uri": "https://localhost:8080/"
        }
      },
      "source": [
        "a = np.array([[4,8,9],[6,5,2]])\n",
        "b = np.array([[1,4,8],[3,7,5]])\n",
        "print(\"Matrix a\\n\",a)\n",
        "print(\"Matrix b\\n\",b)\n",
        "\n",
        "# Cross Product\n",
        "cproduct = np.cross(a,b)\n",
        "print(\"Cross Product of Matrices:\\n\",cproduct)"
      ],
      "execution_count": null,
      "outputs": [
        {
          "output_type": "stream",
          "name": "stdout",
          "text": [
            "Matrix a\n",
            " [[4 8 9]\n",
            " [6 5 2]]\n",
            "Matrix b\n",
            " [[1 4 8]\n",
            " [3 7 5]]\n",
            "Cross Product of Matrices:\n",
            " [[ 28 -23   8]\n",
            " [ 11 -24  27]]\n"
          ]
        }
      ]
    },
    {
      "cell_type": "markdown",
      "metadata": {
        "id": "s4xF_3dfZ8dt"
      },
      "source": [
        "2. Apply dot product on the below given vectors:\n",
        "\n",
        "    i). x = sin 45 + 6i\n",
        "    \n",
        "    ii).   y = 42 + 7i\n",
        "\n"
      ]
    },
    {
      "cell_type": "code",
      "metadata": {
        "id": "yW0pBqSEbofX"
      },
      "source": [
        "# Taking two 1D arrays\n",
        "y = [42,7]\n",
        "x = [sin(np.pi/4),6]\n",
        "\n",
        "# Calculating dot product using dot() method\n",
        "print(np.dot(x, y))"
      ],
      "execution_count": null,
      "outputs": []
    },
    {
      "cell_type": "markdown",
      "metadata": {
        "id": "6tlWT-YPnHye"
      },
      "source": [
        "3. Create two vectors and perform cross product operation on them.\n"
      ]
    },
    {
      "cell_type": "code",
      "metadata": {
        "id": "S0CAppkuKmX1",
        "outputId": "9ead05a2-8ce1-4f28-8c9b-a181771b0e54",
        "colab": {
          "base_uri": "https://localhost:8080/"
        }
      },
      "source": [
        "a = [5,6,1]\n",
        "b = [2,5,9]\n",
        "\n",
        "# Cross Product\n",
        "cross_product = np.cross(a,b)\n",
        "print(\"Cross Product of Vectors:\\n\",cross_product)"
      ],
      "execution_count": null,
      "outputs": [
        {
          "output_type": "stream",
          "name": "stdout",
          "text": [
            "Cross Product of Vectors:\n",
            " [ 49 -43  13]\n"
          ]
        }
      ]
    },
    {
      "cell_type": "markdown",
      "metadata": {
        "id": "k2xogQ7flkR_"
      },
      "source": [
        "### System of Linear Equations"
      ]
    },
    {
      "cell_type": "markdown",
      "metadata": {
        "id": "kq3TzflvKRgg"
      },
      "source": [
        "1. Solve the following linear equation for x and y using matrix solution.\n",
        "\n",
        "  i). 7x + 3y = 34\n",
        "\n",
        "  ii). 8x + 9y = 50\n",
        "\n",
        "    Hint: Use the equation for AX = B to solve the equation where A & B are the matrices for values of LHS and RHS of the equation and X consist of x & y variables.\n",
        "    \n",
        "    To know more about Python libraries, [here ](https://numpy.org/doc/stable/reference/generated/numpy.linalg.inv.html)\n",
        " \n",
        "\n",
        "\n",
        "\n",
        "\n",
        "\n"
      ]
    },
    {
      "cell_type": "markdown",
      "metadata": {
        "id": "imNDo0Y31bat"
      },
      "source": [
        "Steps to solve:\n",
        "\n",
        "1. Write the equation in the form of $AX = B$\n",
        "2. Then, you can write it as -> $X = A^{-1}.B$ "
      ]
    },
    {
      "cell_type": "code",
      "metadata": {
        "id": "HqAHQniMK5PY",
        "outputId": "d66f13d6-9d4b-4014-d618-84fe3deb4b7c",
        "colab": {
          "base_uri": "https://localhost:8080/"
        }
      },
      "source": [
        "A = np.array([[7,3],[8,9]])\n",
        "X = np.array([[x],[y]])\n",
        "B = np.array([[34],[50]])\n",
        "\n",
        "# Inverse of matrix A\n",
        "A1= np.linalg.inv(A)\n",
        "\n",
        "# Dot product of matrix A1 and B\n",
        "X = np.dot(A1,B)\n",
        "print(\"Dot product of matrix A1 and B:\\n\",X)"
      ],
      "execution_count": null,
      "outputs": [
        {
          "output_type": "stream",
          "name": "stdout",
          "text": [
            "Dot product of matrix A1 and B:\n",
            " [[4.]\n",
            " [2.]]\n"
          ]
        }
      ]
    },
    {
      "cell_type": "markdown",
      "metadata": {
        "id": "5YIW-fnBlqRP"
      },
      "source": [
        "2. Find the values of x and y from the system of linear equations given below and verify the solution:\n",
        "\n",
        "  i). 6x + 5y = 19\n",
        "\n",
        "  ii). 7x + 9y = 32\n",
        "\n",
        "\n",
        "\n",
        "\n",
        "\n"
      ]
    },
    {
      "cell_type": "markdown",
      "metadata": {
        "id": "XCwXk-I6jS8X"
      },
      "source": [
        "Steps to solve:\n",
        "\n",
        "1. Create two arrays. \n",
        "\n",
        "2. Solve for x and y.\n",
        "\n",
        "3. Compute the dot product of the matrix equation(array) and the solution\n",
        "\n",
        "4. Use allclose() method to check whether the matrices are element-wise equal or not."
      ]
    },
    {
      "cell_type": "code",
      "metadata": {
        "id": "uAGP_LhElo5t",
        "outputId": "c103ba58-2962-43e3-81d1-aa3c0fcdb5ef",
        "colab": {
          "base_uri": "https://localhost:8080/"
        }
      },
      "source": [
        "# Creating arrays\n",
        "m = np.array([[6,5],[7,9]])\n",
        "n = np.array([19,32])\n",
        "\n",
        "# Solve a linear matrix equation\n",
        "values = np.linalg.solve(m,n)\n",
        "print(\"Values:\\n\",values) \n",
        "\n",
        "# Verify the solution\n",
        "p = np.dot(m,values)\n",
        "result = np.allclose(p,n)\n",
        "\n",
        "print(\"Result:\\n\",result)"
      ],
      "execution_count": null,
      "outputs": [
        {
          "output_type": "stream",
          "name": "stdout",
          "text": [
            "Values:\n",
            " [0.57894737 3.10526316]\n",
            "Result:\n",
            " True\n"
          ]
        }
      ]
    },
    {
      "cell_type": "markdown",
      "metadata": {
        "id": "mNtFMhYuqO3n"
      },
      "source": [
        "3. Below are pair of three linear equations. Find the values of x, y, & z.\n",
        "\n",
        "  i). 8x + 3y + 5z = 29\n",
        "\n",
        "  ii). 4x + 7y + 12z = 54\n",
        "\n",
        "  iii). 9x + 5y + 11z = 52\n",
        "\n",
        "\n",
        "\n",
        "\n",
        "\n"
      ]
    },
    {
      "cell_type": "code",
      "metadata": {
        "id": "hF_oDNegocwE",
        "outputId": "c5655667-1542-49b9-9d3c-15917b5f8b46",
        "colab": {
          "base_uri": "https://localhost:8080/"
        }
      },
      "source": [
        "A = np.array([[8,3,5],[4,7,12],[9,5,11]])\n",
        "B = np.array([29,54,52])\n",
        "\n",
        "# Inverse of matrix A\n",
        "A1 = np.linalg.inv(A)\n",
        "\n",
        "# Dot product of A1 and B\n",
        "X = np.dot(A1,B)\n",
        "print(\"Dot product of A1 and B\\n\",X)"
      ],
      "execution_count": null,
      "outputs": [
        {
          "output_type": "stream",
          "name": "stdout",
          "text": [
            "Dot product of A1 and B\n",
            " [1. 2. 3.]\n"
          ]
        }
      ]
    },
    {
      "cell_type": "markdown",
      "metadata": {
        "id": "5ui2dyQfQ33u"
      },
      "source": [
        "4. Suppose an automobile company sells 25 bikes and 32 scooties in January. In the next month the sale goes up to 30 bikes and 41 scooties. The total revenue generated is Rs. 506,000 and Rs.620,000 for the respective months. \n",
        "Find the cost of bike and scooty using matrix solution.\n",
        "\n",
        "  Hint: Form the pair of linear equations using the below problem statement and solve the equations to get the answer.\n",
        "\n",
        "    Assume the cost of bike and scooty as x and y. Moreover, we can create the equation:\n",
        "\n",
        "       i)   25x + 32y = 506000\n",
        "\n",
        "       ii)  30x + 41y = 628000\n",
        "\n"
      ]
    },
    {
      "cell_type": "code",
      "metadata": {
        "id": "S5tugRJHTF4w",
        "outputId": "b5b7c816-c5ad-445d-ec83-5f5d9de9f1c2",
        "colab": {
          "base_uri": "https://localhost:8080/"
        }
      },
      "source": [
        "# Create matrices using the values from the equation\n",
        "A = np.array([[25,32],[30,41]]) \n",
        "B = np.array([506000,628000]) \n",
        "\n",
        "# Inverse of matrix A \n",
        "A1 = np.linalg.inv(A) \n",
        "\n",
        "# Dot product of A1 and B\n",
        "X = np.dot(A1,B) \n",
        "print(\"Dot product of A1 and B\\n\",X)   "
      ],
      "execution_count": null,
      "outputs": [
        {
          "output_type": "stream",
          "name": "stdout",
          "text": [
            "Dot product of A1 and B\n",
            " [10000.  8000.]\n"
          ]
        }
      ]
    },
    {
      "cell_type": "markdown",
      "metadata": {
        "id": "JM6EeJ-EhM68"
      },
      "source": [
        "### Checking the Linear Dependence and Independence \n",
        "\n",
        "We use linear dependence and independence to check the relation of the variables in the real-world dataset."
      ]
    },
    {
      "cell_type": "markdown",
      "metadata": {
        "id": "KFe9f84vhlqj"
      },
      "source": [
        "1. Check linear dependence for the following equations.\n",
        "\n",
        "  i). 6x + 3y + 5z = 19 \n",
        "\n",
        "  ii). 2x + y + 7z = 17  \n",
        "\n",
        "  iii). 16x + 8y + 40z = 104  \n",
        "\n",
        "  Hint : If the determinant is 0 then it is linearly dependent.\n",
        "\n",
        "\n",
        "\n"
      ]
    },
    {
      "cell_type": "code",
      "metadata": {
        "id": "95qHUZSghmMd",
        "outputId": "1c54634a-9970-407b-d679-c2e89695c760",
        "colab": {
          "base_uri": "https://localhost:8080/"
        }
      },
      "source": [
        "# Creating arrays\n",
        "A = np.array([[6,3,5],[2,1,7],[16,8,40]])\n",
        "print(\"A:\\n\",A)\n",
        "\n",
        "# Finding determinant\n",
        "d = np.linalg.det(A)\n",
        "print(\"Determinant =\",d)\n",
        "\n",
        "if(d==0):\n",
        "  print(\" Ther are linearly dependent as determinant is 0\")"
      ],
      "execution_count": null,
      "outputs": [
        {
          "output_type": "stream",
          "name": "stdout",
          "text": [
            "A:\n",
            " [[ 6  3  5]\n",
            " [ 2  1  7]\n",
            " [16  8 40]]\n",
            "Determinant = 0.0\n",
            " Ther are linearly dependent as determinant is 0\n"
          ]
        }
      ]
    },
    {
      "cell_type": "markdown",
      "metadata": {
        "id": "gEYYXTH7qMrK"
      },
      "source": [
        "2. Find whether the below linear equations are linearly dependent or independent.\n",
        "\n",
        "  i). 4x + 2y = 6\n",
        "\n",
        "  ii). y = -x-2\n"
      ]
    },
    {
      "cell_type": "code",
      "metadata": {
        "id": "jvlTd_2dxZOw",
        "outputId": "20d97d58-d2d5-4fde-9195-1cec325e26ba",
        "colab": {
          "base_uri": "https://localhost:8080/"
        }
      },
      "source": [
        "a = np.array([[4,2],[1,1]])\n",
        "print(a)\n",
        "\n",
        "# Finding determinant\n",
        "determinant = np.linalg.det(a)\n",
        "print(\"Determinant:\\n\",determinant)\n",
        "\n",
        "if(determinant!=0):\n",
        "  print(\"The equations are linearly independent\")"
      ],
      "execution_count": null,
      "outputs": [
        {
          "output_type": "stream",
          "name": "stdout",
          "text": [
            "[[4 2]\n",
            " [1 1]]\n",
            "Determinant:\n",
            " 2.0\n",
            "The equations are linearly independent\n"
          ]
        }
      ]
    },
    {
      "cell_type": "markdown",
      "metadata": {
        "id": "NssNapM_Yukt"
      },
      "source": [
        "### Eigen Vectors and Values"
      ]
    },
    {
      "cell_type": "markdown",
      "metadata": {
        "id": "N6dvAuLeiYdp"
      },
      "source": [
        "Eigen values and vectors are specifically used to define the characterstics of a matrix which is a form of representing data. So, when we train a Machine Learning or Deep Learning model there are chances where unncessary data is punched for training. Thus, using eigen vectors and values we can reduce the training data by knowing its characterstics."
      ]
    },
    {
      "cell_type": "markdown",
      "metadata": {
        "id": "K6LLUsmojOZf"
      },
      "source": [
        "\n",
        "**Eigen Vector**: A non-zero vector that changes by a scalar factor when a linear transformation is applied is known as an eigenvector. \n",
        "\n",
        "**Eigen Values**: When a linear transformation is applied to an eigenvector, the eigenvector is scaled by a particular value which is called eigenvalue."
      ]
    },
    {
      "cell_type": "markdown",
      "metadata": {
        "id": "Pfe2HBrTdxG1"
      },
      "source": [
        "1. Create a matrix and find the eigen vectors and eigen values for it."
      ]
    },
    {
      "cell_type": "code",
      "metadata": {
        "id": "8PiuW7OKdwhV",
        "outputId": "33900add-8889-47cb-d536-58443d8e230b",
        "colab": {
          "base_uri": "https://localhost:8080/"
        }
      },
      "source": [
        "# Create a matrix\n",
        "A = np.array([[2,6],[3,5]])\n",
        "print(\"Array:\\n\",A)\n",
        "\n",
        "# Calculating eigen vectors and eigen values\n",
        "val,vec = np.linalg.eig(A)\n",
        "\n",
        "print(\"Eigen Value:\\n\",val)\n",
        "print(\"Eigen Vector:\\n\",vec)"
      ],
      "execution_count": null,
      "outputs": [
        {
          "output_type": "stream",
          "name": "stdout",
          "text": [
            "Array:\n",
            " [[2 6]\n",
            " [3 5]]\n",
            "Eigen Value:\n",
            " [-1.  8.]\n",
            "Eigen Vector:\n",
            " [[-0.89442719 -0.70710678]\n",
            " [ 0.4472136  -0.70710678]]\n"
          ]
        }
      ]
    },
    {
      "cell_type": "markdown",
      "metadata": {
        "id": "n5-OGw4QIOLU"
      },
      "source": [
        "2. Confirm that the vector for the below matrix is an eigen vector of the matrix.\n",
        "\n",
        "  Hint: Equate the multiplication of first eigen \n",
        "vector with multiplication of first eigen vector and first eigen value.\n",
        "\n",
        "\n",
        "\n",
        "\n"
      ]
    },
    {
      "cell_type": "code",
      "metadata": {
        "id": "O00vH_DkIgVK",
        "outputId": "1e3b9b68-60bb-46b7-8a15-6f3b3a4428f0",
        "colab": {
          "base_uri": "https://localhost:8080/"
        }
      },
      "source": [
        "# Defining a matrix\n",
        "M = np.array([[3,2,7],[5,8,9],[9,3,7]])\n",
        "\n",
        "# Finding eigen vectors and values\n",
        "val,vec = eig(M)\n",
        "\n",
        "# Finding first vector\n",
        "N = np.dot(M,vec[:,0])\n",
        "print(\"First Vector:\\n\", N)\n",
        "\n",
        "# Finding second vector\n",
        "P = vec[:,0]*val[0]\n",
        "print(\"Second Vector:\\n\",P)"
      ],
      "execution_count": null,
      "outputs": [
        {
          "output_type": "stream",
          "name": "stdout",
          "text": [
            "First Vector:\n",
            " [ -6.47873562 -12.80096521  -9.48334439]\n",
            "Second Vector:\n",
            " [ -6.47873562 -12.80096521  -9.48334439]\n"
          ]
        }
      ]
    },
    {
      "cell_type": "markdown",
      "metadata": {
        "id": "VHfHdGCP_n6Y"
      },
      "source": [
        "### Please answer the questions below to complete the experiment:\n",
        "\n",
        "\n"
      ]
    },
    {
      "cell_type": "markdown",
      "source": [
        "Consider the statements given below and answer Q1.\n",
        "\n",
        "\n",
        "A. Every skew-symmetric matrix of odd order is non-singular\n",
        "\n",
        "B. If determinant of a square matrix is non-zero, then it is non singular\n",
        "\n",
        "C. Adjoint of symmetric matrix is symmetric\n",
        "\n",
        "D. Adjoint of a diagonal matrix is diagonal"
      ],
      "metadata": {
        "id": "Ibp8o1S_Gmp0"
      }
    },
    {
      "cell_type": "code",
      "metadata": {
        "cellView": "form",
        "id": "-INhmnH1RDq0"
      },
      "source": [
        "#@title Q.1. Which of the above statements is/are False?\n",
        "Answer1 = \"Only A\" #@param [\"\",\"Only A\",\"Both A & B\",\"Only B\", \"Only C\", \"Both B & C\"]\n"
      ],
      "execution_count": null,
      "outputs": []
    },
    {
      "cell_type": "markdown",
      "source": [
        "Consider the matrix A and the values of a, b, and c given below for answering Q.2.\n",
        "\n",
        "$A = \\begin{bmatrix}\n",
        "0 & 2b & c   \\\\\n",
        "a & b & -c   \\\\\n",
        "a & -b & c   \\\\\n",
        "\\end{bmatrix}$\n",
        "\n",
        "<br>\n",
        "\n",
        "A). a = $\\pm \\frac{1}{\\sqrt{6}} $, b = $\\pm \\frac{1}{\\sqrt{2}}$ , c = $\\pm \\frac{1}{\\sqrt{2}} $\n",
        "\n",
        "\n",
        "<br>\n",
        "\n",
        "B). a = $\\pm \\frac{1}{\\sqrt{6}} $, b = $\\pm \\frac{1}{\\sqrt{3}}$ , c = $\\pm \\frac{1}{\\sqrt{2}} $\n",
        "\n",
        "\n",
        "<br>\n",
        "\n",
        "C). a = $\\pm \\frac{1}{\\sqrt{2}} $, b = $\\pm \\frac{1}{\\sqrt{6}}$ , c = $\\pm \\frac{1}{\\sqrt{3}} $\n",
        "\n",
        "<br>\n",
        "\n",
        "D). a = $\\pm \\frac{1}{\\sqrt{2}} $, b = $\\pm \\frac{1}{\\sqrt{2}}$ , c = $\\pm \\frac{1}{\\sqrt{2}} $"
      ],
      "metadata": {
        "id": "zUG3igTEJrLL"
      }
    },
    {
      "cell_type": "code",
      "metadata": {
        "id": "UX24XAeIJ6Nf",
        "cellView": "form"
      },
      "source": [
        "#@title Q.2. If 'A' is an orthogonal matrix, then, what will be the values of a, b, and c. \n",
        "Answer2 = \"Only C\" #@param [\"\",\"Only A\",\"Only B\",\"Only C\",\"Only D\", \"None of the above\"]\n"
      ],
      "execution_count": null,
      "outputs": []
    },
    {
      "cell_type": "code",
      "metadata": {
        "id": "NMzKSbLIgFzQ"
      },
      "source": [
        "#@title How was the experiment? { run: \"auto\", form-width: \"500px\", display-mode: \"form\" }\n",
        "Complexity = \"Good, But Not Challenging for me\" #@param [\"\",\"Too Simple, I am wasting time\", \"Good, But Not Challenging for me\", \"Good and Challenging for me\", \"Was Tough, but I did it\", \"Too Difficult for me\"]\n"
      ],
      "execution_count": null,
      "outputs": []
    },
    {
      "cell_type": "code",
      "metadata": {
        "id": "DjcH1VWSFI2l"
      },
      "source": [
        "#@title If it was too easy, what more would you have liked to be added? If it was very difficult, what would you have liked to have been removed? { run: \"auto\", display-mode: \"form\" }\n",
        "Additional = \"None\" #@param {type:\"string\"}\n"
      ],
      "execution_count": null,
      "outputs": []
    },
    {
      "cell_type": "code",
      "metadata": {
        "id": "4VBk_4VTAxCM"
      },
      "source": [
        "#@title Can you identify the concepts from the lecture which this experiment covered? { run: \"auto\", vertical-output: true, display-mode: \"form\" }\n",
        "Concepts = \"Yes\" #@param [\"\",\"Yes\", \"No\"]\n"
      ],
      "execution_count": null,
      "outputs": []
    },
    {
      "cell_type": "code",
      "metadata": {
        "id": "XH91cL1JWH7m"
      },
      "source": [
        "#@title  Text and image description/explanation and code comments within the experiment: { run: \"auto\", vertical-output: true, display-mode: \"form\" }\n",
        "Comments = \"Somewhat Useful\" #@param [\"\",\"Very Useful\", \"Somewhat Useful\", \"Not Useful\", \"Didn't use\"]\n"
      ],
      "execution_count": null,
      "outputs": []
    },
    {
      "cell_type": "code",
      "metadata": {
        "id": "z8xLqj7VWIKW"
      },
      "source": [
        "#@title Mentor Support: { run: \"auto\", vertical-output: true, display-mode: \"form\" }\n",
        "Mentor_support = \"Somewhat Useful\" #@param [\"\",\"Very Useful\", \"Somewhat Useful\", \"Not Useful\", \"Didn't use\"]\n"
      ],
      "execution_count": null,
      "outputs": []
    },
    {
      "cell_type": "code",
      "metadata": {
        "id": "FzAZHt1zw-Y-",
        "cellView": "form",
        "outputId": "750053ad-552a-4fe5-903e-42faf31214ad",
        "colab": {
          "base_uri": "https://localhost:8080/"
        }
      },
      "source": [
        "#@title Run this cell to submit your notebook for grading { vertical-output: true }\n",
        "try:\n",
        "  if submission_id:\n",
        "      return_id = submit_notebook()\n",
        "      if return_id : submission_id = return_id\n",
        "  else:\n",
        "      print(\"Please complete the setup first.\")\n",
        "except NameError:\n",
        "  print (\"Please complete the setup first.\")"
      ],
      "execution_count": null,
      "outputs": [
        {
          "output_type": "stream",
          "name": "stdout",
          "text": [
            "Your submission is successful.\n",
            "Ref Id: 332\n",
            "Date of submission:  21 Jan 2023\n",
            "Time of submission:  20:13:24\n",
            "View your submissions: https://dlfa-iisc.talentsprint.com/notebook_submissions\n"
          ]
        }
      ]
    }
  ]
}